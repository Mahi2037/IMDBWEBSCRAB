{
 "cells": [
  {
   "cell_type": "code",
   "execution_count": 7,
   "metadata": {},
   "outputs": [
    {
     "name": "stdout",
     "output_type": "stream",
     "text": [
      "              Movie_name Duration  Rating votes   Genre\n",
      "0      Kraven the Hunter    2h 7m     5.4   44K  Action\n",
      "1           Gladiator II   2h 28m     6.6  216K  Action\n",
      "2   Sonic the Hedgehog 3   1h 50m     6.9   52K  Action\n",
      "3  Venom: The Last Dance   1h 50m     6.0  107K  Action\n",
      "4         Dune: Part Two   2h 46m     8.5  612K  Action\n"
     ]
    }
   ],
   "source": [
    "import pandas as pd\n",
    "df = pd.read_csv(r\"L:\\Bot\\IMDBSCRAP\\cleaned_movies.csv\")\n",
    "df.rename(columns={\"movie_name\": \"Movie_name\", \"Vote Counts\": \"votes\"}, inplace=True)\n",
    "print(df.head())"
   ]
  },
  {
   "cell_type": "code",
   "execution_count": 9,
   "metadata": {},
   "outputs": [
    {
     "name": "stdout",
     "output_type": "stream",
     "text": [
      "              Movie_name Duration  Rating votes   Genre\n",
      "0      Kraven the Hunter    2h 7m     5.4   44K  Action\n",
      "1           Gladiator II   2h 28m     6.6  216K  Action\n",
      "2   Sonic the Hedgehog 3   1h 50m     6.9   52K  Action\n",
      "3  Venom: The Last Dance   1h 50m     6.0  107K  Action\n",
      "4         Dune: Part Two   2h 46m     8.5  612K  Action\n"
     ]
    }
   ],
   "source": [
    "df.rename(columns={\"movie_name\": \"Movie_name\", \"Vote Counts\": \"votes\"}, inplace=True)\n",
    "print(df.head())"
   ]
  },
  {
   "cell_type": "code",
   "execution_count": 1,
   "metadata": {},
   "outputs": [
    {
     "name": "stdout",
     "output_type": "stream",
     "text": [
      "Columns in CSV file: Index(['Movie Name', 'Duration', 'Rating', 'Vote Counts', 'Genre'], dtype='object')\n",
      "Total duplicate movies found: 620\n",
      "✅ Duplicates removed, duration converted, columns reordered, and cleaned data saved successfully!\n"
     ]
    }
   ],
   "source": [
    "import pandas as pd\n",
    "import re\n",
    "\n",
    "# 📂 Load the dataset\n",
    "df = pd.read_csv(r\"L:\\Guvi\\Project 1\\Web ScrapIMDB\\merged_cleaned_movies.csv\")\n",
    "\n",
    "# 🔍 Print column names for debugging\n",
    "print(\"Columns in CSV file:\", df.columns)\n",
    "\n",
    "# 🔄 Rename columns to match the required format\n",
    "df.rename(columns={\n",
    "    'Movie Name': 'Movie Name',  # Keep the same\n",
    "    'Genre': 'Genre',  # Keep the same\n",
    "    'Rating': 'Ratings',  # Rename to \"Ratings\"\n",
    "    'Vote Counts': 'Voting Counts',  # Rename to \"Voting Counts\"\n",
    "    'Duration': 'Duration'  # Keep the same\n",
    "}, inplace=True)\n",
    "\n",
    "# 🔍 Check for duplicate movie names\n",
    "duplicate_count = df.duplicated(subset=['Movie Name']).sum()\n",
    "print(f\"Total duplicate movies found: {duplicate_count}\")\n",
    "\n",
    "# 🔄 Remove duplicate movies (keeping the first occurrence)\n",
    "df.drop_duplicates(subset=['Movie Name'], keep='first', inplace=True)\n",
    "\n",
    "# 🔧 Function to convert \"2h 7m\" → 127 minutes\n",
    "def convert_duration(duration_str):\n",
    "    if isinstance(duration_str, str):  # Ensure it's a string\n",
    "        match = re.match(r'(?:(\\d+)h)?\\s*(?:(\\d+)m)?', duration_str)  \n",
    "        if match:\n",
    "            hours = int(match.group(1)) if match.group(1) else 0\n",
    "            minutes = int(match.group(2)) if match.group(2) else 0\n",
    "            return hours * 60 + minutes\n",
    "    return None  # If format is incorrect\n",
    "\n",
    "# ✅ Standardize and convert duration column\n",
    "if 'Duration' in df.columns:\n",
    "    df['Duration'] = df['Duration'].astype(str)  # Convert to string first\n",
    "    df['Duration'] = df['Duration'].apply(convert_duration)  # Convert to minutes\n",
    "\n",
    "# 🛠 Handle missing or invalid values\n",
    "df.dropna(subset=['Duration'], inplace=True)\n",
    "df['Duration'] = df['Duration'].astype(int)  # Ensure it's an integer\n",
    "\n",
    "# 🎯 Reorder columns as requested\n",
    "df = df[['Movie Name', 'Genre', 'Ratings', 'Voting Counts', 'Duration']]\n",
    "\n",
    "# 💾 Save cleaned data\n",
    "df.to_csv(\"cleaned_movies.csv\", index=False)\n",
    "\n",
    "print(\"✅ Duplicates removed, duration converted, columns reordered, and cleaned data saved successfully!\")\n"
   ]
  }
 ],
 "metadata": {
  "kernelspec": {
   "display_name": "Python 3",
   "language": "python",
   "name": "python3"
  },
  "language_info": {
   "codemirror_mode": {
    "name": "ipython",
    "version": 3
   },
   "file_extension": ".py",
   "mimetype": "text/x-python",
   "name": "python",
   "nbconvert_exporter": "python",
   "pygments_lexer": "ipython3",
   "version": "3.12.8"
  }
 },
 "nbformat": 4,
 "nbformat_minor": 2
}
